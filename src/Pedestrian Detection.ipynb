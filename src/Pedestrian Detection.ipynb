{
 "cells": [
  {
   "cell_type": "markdown",
   "id": "11a85ed3",
   "metadata": {},
   "source": [
    "# Pedestrian Detection"
   ]
  },
  {
   "cell_type": "code",
   "execution_count": 19,
   "id": "38778b9d",
   "metadata": {},
   "outputs": [],
   "source": [
    "# import libraries and dependencies\n",
    "from PIL import Image\n",
    "import glob\n",
    "import numpy as np"
   ]
  },
  {
   "cell_type": "code",
   "execution_count": 14,
   "id": "a14db94a",
   "metadata": {},
   "outputs": [
    {
     "name": "stdout",
     "output_type": "stream",
     "text": [
      "<PIL.JpegImagePlugin.JpegImageFile image mode=RGB size=1920x1080 at 0x1EBACF731C0>\n"
     ]
    }
   ],
   "source": [
    "# import training images\n",
    "image_list = []\n",
    "for filename in glob.glob(r'C:\\Users\\monic\\OneDrive\\Desktop\\MS Thesis\\PedestrianDetection\\data\\img1/*.jpg'):\n",
    "    im=Image.open(filename)\n",
    "    image_list.append(im)"
   ]
  },
  {
   "cell_type": "code",
   "execution_count": null,
   "id": "65457831",
   "metadata": {},
   "outputs": [],
   "source": [
    "# display first and last images to see if files are read correctly\n",
    "image_list[0].show()\n",
    "image_list[-1].show()"
   ]
  },
  {
   "cell_type": "code",
   "execution_count": 20,
   "id": "758433cf",
   "metadata": {},
   "outputs": [],
   "source": [
    "# convert images into vectors of pixels\n",
    "train_dataset = []\n",
    "\n",
    "for imgs in image_list:\n",
    "    train_dataset.append(np.asarray(imgs))"
   ]
  }
 ],
 "metadata": {
  "kernelspec": {
   "display_name": "Python 3 (ipykernel)",
   "language": "python",
   "name": "python3"
  },
  "language_info": {
   "codemirror_mode": {
    "name": "ipython",
    "version": 3
   },
   "file_extension": ".py",
   "mimetype": "text/x-python",
   "name": "python",
   "nbconvert_exporter": "python",
   "pygments_lexer": "ipython3",
   "version": "3.9.12"
  }
 },
 "nbformat": 4,
 "nbformat_minor": 5
}
