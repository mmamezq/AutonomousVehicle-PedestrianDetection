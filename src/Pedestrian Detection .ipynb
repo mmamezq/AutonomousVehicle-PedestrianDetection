{
 "cells": [
  {
   "cell_type": "markdown",
   "id": "db7acbbe",
   "metadata": {},
   "source": [
    "# Pedestrian Detection"
   ]
  },
  {
   "cell_type": "code",
   "execution_count": 19,
   "id": "ce68bbd8",
   "metadata": {},
   "outputs": [],
   "source": [
    "# import libraries and dependencies\n",
    "from PIL import Image\n",
    "import glob\n",
    "import numpy as np"
   ]
  },
  {
   "cell_type": "code",
   "execution_count": null,
   "id": "86e11479",
   "metadata": {},
   "outputs": [],
   "source": []
  },
  {
   "cell_type": "code",
   "execution_count": 14,
   "id": "5a01f021",
   "metadata": {},
   "outputs": [
    {
     "name": "stdout",
     "output_type": "stream",
     "text": [
      "<PIL.JpegImagePlugin.JpegImageFile image mode=RGB size=1920x1080 at 0x1EBACF731C0>\n"
     ]
    }
   ],
   "source": [
    "# import training images\n",
    "image_list = []\n",
    "for filename in glob.glob(r'C:\\Users\\monic\\OneDrive\\Desktop\\MS Thesis\\PedestrianDetection\\data\\img1/*.jpg'):\n",
    "    im=Image.open(filename)\n",
    "    image_list.append(im)"
   ]
  },
  {
   "cell_type": "code",
   "execution_count": null,
   "id": "7e7b0db9",
   "metadata": {},
   "outputs": [],
   "source": [
    "# display first and last images to see if files are read correctly\n",
    "image_list[0].show()\n",
    "image_list[-1].show()"
   ]
  },
  {
   "cell_type": "code",
   "execution_count": 20,
   "id": "8fb0d605",
   "metadata": {},
   "outputs": [],
   "source": [
    "# convert images into vectors of pixels\n",
    "train_dataset = []\n",
    "\n",
    "for imgs in image_list:\n",
    "    train_dataset.append(np.asarray(imgs))"
   ]
  },
  {
   "cell_type": "code",
   "execution_count": 33,
   "id": "bec1c972",
   "metadata": {},
   "outputs": [
    {
     "ename": "AttributeError",
     "evalue": "'list' object has no attribute 'size'",
     "output_type": "error",
     "traceback": [
      "\u001b[1;31m---------------------------------------------------------------------------\u001b[0m",
      "\u001b[1;31mAttributeError\u001b[0m                            Traceback (most recent call last)",
      "Input \u001b[1;32mIn [33]\u001b[0m, in \u001b[0;36m<cell line: 1>\u001b[1;34m()\u001b[0m\n\u001b[1;32m----> 1\u001b[0m \u001b[38;5;28mprint\u001b[39m(\u001b[43m(\u001b[49m\u001b[43mtraining_dataset\u001b[49m\u001b[43m)\u001b[49m\u001b[38;5;241;43m.\u001b[39;49m\u001b[43msize\u001b[49m)\n",
      "\u001b[1;31mAttributeError\u001b[0m: 'list' object has no attribute 'size'"
     ]
    }
   ],
   "source": []
  },
  {
   "cell_type": "code",
   "execution_count": null,
   "id": "04d7cf34",
   "metadata": {},
   "outputs": [],
   "source": []
  }
 ],
 "metadata": {
  "kernelspec": {
   "display_name": "Python 3 (ipykernel)",
   "language": "python",
   "name": "python3"
  },
  "language_info": {
   "codemirror_mode": {
    "name": "ipython",
    "version": 3
   },
   "file_extension": ".py",
   "mimetype": "text/x-python",
   "name": "python",
   "nbconvert_exporter": "python",
   "pygments_lexer": "ipython3",
   "version": "3.9.12"
  }
 },
 "nbformat": 4,
 "nbformat_minor": 5
}
